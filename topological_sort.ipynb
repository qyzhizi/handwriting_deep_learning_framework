{
 "cells": [
  {
   "cell_type": "code",
   "execution_count": 1,
   "metadata": {},
   "outputs": [
    {
     "name": "stdout",
     "output_type": "stream",
     "text": [
      "Topological sort: 5 4 2 3 1 0\n"
     ]
    }
   ],
   "source": [
    "from collections import defaultdict\n",
    "\n",
    "class Graph:\n",
    "    def __init__(self, vertices):\n",
    "        self.graph = defaultdict(list)\n",
    "        self.V = vertices\n",
    "\n",
    "    def addEdge(self, u, v):\n",
    "        self.graph[u].append(v)\n",
    "        \n",
    "    def topologicalSortUtil(self, v, visited, stack):\n",
    "        visited[v] = True\n",
    "        if v in self.graph.keys():\n",
    "            for node in self.graph[v]:\n",
    "                if visited[node] == False:\n",
    "                    self.topologicalSortUtil(node, visited, stack)\n",
    "        stack.insert(0, v)\n",
    "\n",
    "    def topologicalSort(self):\n",
    "        visited = [False] * self.V\n",
    "        stack = []\n",
    "\n",
    "        for i in range(self.V):\n",
    "            if visited[i] == False:\n",
    "                self.topologicalSortUtil(i, visited, stack)\n",
    "\n",
    "        print(\"Topological sort: \", end=\"\")\n",
    "        print(*stack)\n",
    "\n",
    "g = Graph(6)\n",
    "g.addEdge(5, 2)\n",
    "g.addEdge(5, 0)\n",
    "g.addEdge(4, 0)\n",
    "g.addEdge(4, 1)\n",
    "g.addEdge(2, 3)\n",
    "g.addEdge(3, 1)\n",
    "g.topologicalSort()"
   ]
  },
  {
   "attachments": {},
   "cell_type": "markdown",
   "metadata": {},
   "source": [
    "![](https://qyzhizi.cn/img/202302131929260.png)"
   ]
  },
  {
   "attachments": {},
   "cell_type": "markdown",
   "metadata": {},
   "source": [
    "拓扑排序的目的是，获得一个排好顺序的节点列表\n",
    "\n",
    "前向计算一个节点的输出值时，保证这个节点的输入值已经计算好了，换句话说，与这个节点相连的父节点已经算好值了。\n",
    "\n",
    "同样反向传播时，将拓扑排序好的列表进行倒序计算，在计算一个节点的梯度，保证该节点的子节点已经算好梯度了。"
   ]
  }
 ],
 "metadata": {
  "kernelspec": {
   "display_name": "py36torch",
   "language": "python",
   "name": "python3"
  },
  "language_info": {
   "codemirror_mode": {
    "name": "ipython",
    "version": 3
   },
   "file_extension": ".py",
   "mimetype": "text/x-python",
   "name": "python",
   "nbconvert_exporter": "python",
   "pygments_lexer": "ipython3",
   "version": "3.6.10"
  },
  "orig_nbformat": 4,
  "vscode": {
   "interpreter": {
    "hash": "6f11ec32d488b58821b07bca992f76bf553f91446d669cc413baf1c802561df6"
   }
  }
 },
 "nbformat": 4,
 "nbformat_minor": 2
}
